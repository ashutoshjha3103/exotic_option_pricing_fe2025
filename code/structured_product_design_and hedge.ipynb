{
 "cells": [
  {
   "cell_type": "markdown",
   "id": "329a985f",
   "metadata": {},
   "source": [
    "# Design and Hedging of a Structured Product\n",
    "## Financial Engineering, Summer 2025, KU Leuven\n",
    "\n",
    "Ashutosh Jha"
   ]
  },
  {
   "cell_type": "code",
   "execution_count": 1,
   "id": "1bb7c71f",
   "metadata": {},
   "outputs": [],
   "source": [
    "# Necessary Imports\n",
    "import pandas as pd\n",
    "import numpy as np\n",
    "import time"
   ]
  },
  {
   "cell_type": "markdown",
   "id": "3db9bf7c",
   "metadata": {},
   "source": [
    "### Data Collection and Preprocessing\n",
    "\n",
    "In this step we use already collected data in ../data/ folder. We process the options data to eliminate any arbitrage, by using the put call spread and butterfly rule?"
   ]
  },
  {
   "cell_type": "code",
   "execution_count": 2,
   "id": "32e78801",
   "metadata": {},
   "outputs": [],
   "source": [
    "from collect_stock_data import GetStockData\n",
    "\n",
    "ticker = \"COST\"\n",
    "ref_date = \"2025-04-01\"\n",
    "\n",
    "get_stock_data = GetStockData(ticker=ticker, ref_date=ref_date)"
   ]
  },
  {
   "cell_type": "code",
   "execution_count": 3,
   "id": "e4be8395",
   "metadata": {},
   "outputs": [
    {
     "data": {
      "text/html": [
       "<div>\n",
       "<style scoped>\n",
       "    .dataframe tbody tr th:only-of-type {\n",
       "        vertical-align: middle;\n",
       "    }\n",
       "\n",
       "    .dataframe tbody tr th {\n",
       "        vertical-align: top;\n",
       "    }\n",
       "\n",
       "    .dataframe thead th {\n",
       "        text-align: right;\n",
       "    }\n",
       "</style>\n",
       "<table border=\"1\" class=\"dataframe\">\n",
       "  <thead>\n",
       "    <tr style=\"text-align: right;\">\n",
       "      <th></th>\n",
       "      <th>Date</th>\n",
       "      <th>Open</th>\n",
       "      <th>High</th>\n",
       "      <th>Low</th>\n",
       "      <th>Close</th>\n",
       "      <th>Volume</th>\n",
       "    </tr>\n",
       "  </thead>\n",
       "  <tbody>\n",
       "    <tr>\n",
       "      <th>0</th>\n",
       "      <td>2024-04-01</td>\n",
       "      <td>727.776534</td>\n",
       "      <td>729.278323</td>\n",
       "      <td>716.279465</td>\n",
       "      <td>717.313782</td>\n",
       "      <td>1600700</td>\n",
       "    </tr>\n",
       "    <tr>\n",
       "      <th>1</th>\n",
       "      <td>2024-04-02</td>\n",
       "      <td>716.080508</td>\n",
       "      <td>716.080508</td>\n",
       "      <td>704.543680</td>\n",
       "      <td>707.427856</td>\n",
       "      <td>2326700</td>\n",
       "    </tr>\n",
       "    <tr>\n",
       "      <th>2</th>\n",
       "      <td>2024-04-03</td>\n",
       "      <td>706.115013</td>\n",
       "      <td>706.940512</td>\n",
       "      <td>693.474242</td>\n",
       "      <td>701.848389</td>\n",
       "      <td>3205500</td>\n",
       "    </tr>\n",
       "    <tr>\n",
       "      <th>3</th>\n",
       "      <td>2024-04-04</td>\n",
       "      <td>704.911747</td>\n",
       "      <td>713.226223</td>\n",
       "      <td>700.386467</td>\n",
       "      <td>701.042908</td>\n",
       "      <td>2252400</td>\n",
       "    </tr>\n",
       "    <tr>\n",
       "      <th>4</th>\n",
       "      <td>2024-04-05</td>\n",
       "      <td>702.196471</td>\n",
       "      <td>712.987443</td>\n",
       "      <td>702.176621</td>\n",
       "      <td>709.834656</td>\n",
       "      <td>1552300</td>\n",
       "    </tr>\n",
       "  </tbody>\n",
       "</table>\n",
       "</div>"
      ],
      "text/plain": [
       "         Date        Open        High         Low       Close   Volume\n",
       "0  2024-04-01  727.776534  729.278323  716.279465  717.313782  1600700\n",
       "1  2024-04-02  716.080508  716.080508  704.543680  707.427856  2326700\n",
       "2  2024-04-03  706.115013  706.940512  693.474242  701.848389  3205500\n",
       "3  2024-04-04  704.911747  713.226223  700.386467  701.042908  2252400\n",
       "4  2024-04-05  702.196471  712.987443  702.176621  709.834656  1552300"
      ]
     },
     "execution_count": 3,
     "metadata": {},
     "output_type": "execute_result"
    }
   ],
   "source": [
    "historical_df = pd.read_csv('../data/historical_data_cost_2025-04-01_final.csv')\n",
    "historical_df.head()"
   ]
  },
  {
   "cell_type": "code",
   "execution_count": 4,
   "id": "59f57959",
   "metadata": {},
   "outputs": [
    {
     "name": "stdout",
     "output_type": "stream",
     "text": [
      "Spot Price: 954.4000244140624\n"
     ]
    }
   ],
   "source": [
    "# Load from CSV\n",
    "spot_df = pd.read_csv(\"../data/spot_price_ref_date_cost_2025-04-01_final.csv\")\n",
    "\n",
    "# Extract the spot price (assume first row if only one date)\n",
    "S0 = spot_df.loc[0, \"spot_price_ref_date\"]\n",
    "print(\"Spot Price:\",S0)\n",
    "ref_date = spot_df.loc[0, \"ref_date\"]"
   ]
  },
  {
   "cell_type": "markdown",
   "id": "704b5fd1",
   "metadata": {},
   "source": [
    "### Multiple Maturities Data and Experiment (Rate limitation)"
   ]
  },
  {
   "cell_type": "code",
   "execution_count": 5,
   "id": "addfe16c",
   "metadata": {},
   "outputs": [
    {
     "data": {
      "text/plain": [
       "'\\n# Define maturities and sample interest rates\\nmaturities = [0.25, 0.5, 1.0]\\nrates = [0.04, 0.042, 0.045]\\nq = 0.008\\nepsilon = 0.5\\n\\n# Storage for fetched data\\noption_chains = []\\n\\n# STEP 1: Fetch option chains (with delay to avoid rate limiting)\\nfor T in maturities:\\n    try:\\n        print(f\"\\nFetching option chain for T = {T}...\")\\n        option_data = get_stock_data.get_option_chain_for_maturity(T)\\n        option_chains.append(option_data)\\n        print(f\"Fetched expiry: {option_data[\\'expiry\\']}, calls: {len(option_data[\\'calls\\'])}, puts: {len(option_data[\\'puts\\'])}\")\\n        time.sleep(15)  # Delay between requests to avoid rate limiting\\n    except Exception as e:\\n        print(f\"Error fetching data for T = {T}: {e}\")\\n        option_chains.append(None)\\n\\n# STEP 2: Run arbitrage checks\\nall_clean_calls = []\\nall_clean_puts = []\\n\\nfor idx, T in enumerate(maturities):\\n    r = rates[idx]\\n    option_data = option_chains[idx]\\n    if option_data is None:\\n        continue\\n\\n    print(f\"\\nProcessing maturity T = {T} with expiry {option_data[\\'expiry\\']}\")\\n    calls_df = option_data[\"calls\"]\\n    puts_df = option_data[\"puts\"]\\n\\n    try:\\n        calls_df, puts_df = get_stock_data.check_arbitrage_conditions(\\n            calls_df=calls_df,\\n            puts_df=puts_df,\\n            spot=S0,\\n            r=r,\\n            q=q,\\n            T=T,\\n            epsilon=epsilon,\\n            reduced_arbitrage_check=True\\n        )\\n\\n        calls_df[\"maturity_T\"] = T\\n        puts_df[\"maturity_T\"] = T\\n\\n        all_clean_calls.append(calls_df)\\n        all_clean_puts.append(puts_df)\\n    except Exception as e:\\n        print(f\"Error during arbitrage check for T = {T}: {e}\")\\n\\n# STEP 3: Concatenate and save\\ncalls_all_T = pd.concat(all_clean_calls, ignore_index=True)\\nputs_all_T = pd.concat(all_clean_puts, ignore_index=True)\\n\\nticker_str = get_stock_data.ticker.lower()\\nref_str = ref_date.replace(\"-\", \"\")\\n\\ncalls_all_T.to_csv(f\"../data/calls_data_{ticker_str}_{ref_str}_multiple_maturity.csv\", index=False)\\nputs_all_T.to_csv(f\"../data/puts_data_{ticker_str}_{ref_str}_multiple_maturity.csv\", index=False)\\n\\nprint(\"Cleaned multi-maturity option data saved to ../data/\")\\n'"
      ]
     },
     "execution_count": 5,
     "metadata": {},
     "output_type": "execute_result"
    }
   ],
   "source": [
    "\"\"\"\n",
    "# Define maturities and sample interest rates\n",
    "maturities = [0.25, 0.5, 1.0]\n",
    "rates = [0.04, 0.042, 0.045]\n",
    "q = 0.008\n",
    "epsilon = 0.5\n",
    "\n",
    "# Storage for fetched data\n",
    "option_chains = []\n",
    "\n",
    "# STEP 1: Fetch option chains (with delay to avoid rate limiting)\n",
    "for T in maturities:\n",
    "    try:\n",
    "        print(f\"\\nFetching option chain for T = {T}...\")\n",
    "        option_data = get_stock_data.get_option_chain_for_maturity(T)\n",
    "        option_chains.append(option_data)\n",
    "        print(f\"Fetched expiry: {option_data['expiry']}, calls: {len(option_data['calls'])}, puts: {len(option_data['puts'])}\")\n",
    "        time.sleep(15)  # Delay between requests to avoid rate limiting\n",
    "    except Exception as e:\n",
    "        print(f\"Error fetching data for T = {T}: {e}\")\n",
    "        option_chains.append(None)\n",
    "\n",
    "# STEP 2: Run arbitrage checks\n",
    "all_clean_calls = []\n",
    "all_clean_puts = []\n",
    "\n",
    "for idx, T in enumerate(maturities):\n",
    "    r = rates[idx]\n",
    "    option_data = option_chains[idx]\n",
    "    if option_data is None:\n",
    "        continue\n",
    "\n",
    "    print(f\"\\nProcessing maturity T = {T} with expiry {option_data['expiry']}\")\n",
    "    calls_df = option_data[\"calls\"]\n",
    "    puts_df = option_data[\"puts\"]\n",
    "\n",
    "    try:\n",
    "        calls_df, puts_df = get_stock_data.check_arbitrage_conditions(\n",
    "            calls_df=calls_df,\n",
    "            puts_df=puts_df,\n",
    "            spot=S0,\n",
    "            r=r,\n",
    "            q=q,\n",
    "            T=T,\n",
    "            epsilon=epsilon,\n",
    "            reduced_arbitrage_check=True\n",
    "        )\n",
    "\n",
    "        calls_df[\"maturity_T\"] = T\n",
    "        puts_df[\"maturity_T\"] = T\n",
    "\n",
    "        all_clean_calls.append(calls_df)\n",
    "        all_clean_puts.append(puts_df)\n",
    "    except Exception as e:\n",
    "        print(f\"Error during arbitrage check for T = {T}: {e}\")\n",
    "\n",
    "# STEP 3: Concatenate and save\n",
    "calls_all_T = pd.concat(all_clean_calls, ignore_index=True)\n",
    "puts_all_T = pd.concat(all_clean_puts, ignore_index=True)\n",
    "\n",
    "ticker_str = get_stock_data.ticker.lower()\n",
    "ref_str = ref_date.replace(\"-\", \"\")\n",
    "\n",
    "calls_all_T.to_csv(f\"../data/calls_data_{ticker_str}_{ref_str}_multiple_maturity.csv\", index=False)\n",
    "puts_all_T.to_csv(f\"../data/puts_data_{ticker_str}_{ref_str}_multiple_maturity.csv\", index=False)\n",
    "\n",
    "print(\"Cleaned multi-maturity option data saved to ../data/\")\n",
    "\"\"\"\n"
   ]
  },
  {
   "cell_type": "code",
   "execution_count": 6,
   "id": "7d3229cc",
   "metadata": {},
   "outputs": [
    {
     "name": "stdout",
     "output_type": "stream",
     "text": [
      "Shape calls_df: (180, 18)\n",
      "Shape puts_df: (169, 18)\n"
     ]
    }
   ],
   "source": [
    "calls_df  = pd.read_csv('../data/calls_data_cost_2025-04-01_final.csv')\n",
    "puts_df = pd.read_csv('../data/puts_data_cost_2025-04-01_final.csv')\n",
    "print(\"Shape calls_df:\",calls_df.shape)\n",
    "print(\"Shape puts_df:\",puts_df.shape)"
   ]
  },
  {
   "cell_type": "code",
   "execution_count": 7,
   "id": "695c4ed1",
   "metadata": {},
   "outputs": [
    {
     "name": "stdout",
     "output_type": "stream",
     "text": [
      "=== No-Arbitrage Check Summary ===\n",
      "Call monotonicity clean: 114 / 176\n",
      "Put monotonicity clean: 127 / 167\n",
      "Call butterfly clean: 84 / 176\n",
      "Put butterfly clean: 90 / 167\n",
      "Calls retained (all clean): 70 / 176\n",
      "Puts retained (all clean): 49 / 167\n"
     ]
    }
   ],
   "source": [
    "# Cehcking for arbitrage in option data\n",
    "# Define required inputs\n",
    "r = 0.04\n",
    "q = 0.008\n",
    "T = 0.25\n",
    "epsilon = 0.5\n",
    "\n",
    "# Run the check (reduced_arbitrage_check=True disables put-call parity and mid fallback)\n",
    "calls_df_clean, puts_df_clean = get_stock_data.check_arbitrage_conditions(\n",
    "    calls_df=calls_df,\n",
    "    puts_df=puts_df,\n",
    "    spot=S0,\n",
    "    r=r,\n",
    "    q=q,\n",
    "    T=T,\n",
    "    epsilon=epsilon,\n",
    "    reduced_arbitrage_check=True  # Set False if full checks needed incl. parity\n",
    ")"
   ]
  },
  {
   "cell_type": "code",
   "execution_count": 8,
   "id": "a61180c8",
   "metadata": {},
   "outputs": [
    {
     "name": "stdout",
     "output_type": "stream",
     "text": [
      "Shape clean_calls_df: (70, 18)\n",
      "Shape clean_puts_df: (49, 18)\n"
     ]
    }
   ],
   "source": [
    "clean_calls_df = calls_df_clean[calls_df_clean[\"is_clean\"]].copy()\n",
    "clean_puts_df = puts_df_clean[puts_df_clean[\"is_clean\"]].copy()\n",
    "print(\"Shape clean_calls_df:\",clean_calls_df.shape)\n",
    "print(\"Shape clean_puts_df:\",clean_puts_df.shape)"
   ]
  },
  {
   "cell_type": "markdown",
   "id": "0a00e5d4",
   "metadata": {},
   "source": [
    "### Estimating Dividend yield (Rate Limited)"
   ]
  },
  {
   "cell_type": "code",
   "execution_count": 9,
   "id": "4d519a65",
   "metadata": {},
   "outputs": [
    {
     "data": {
      "text/plain": [
       "'\\nfrom exogenous_param_estimation import ExogenousParamEstimation\\n\\nq_estimated = ExogenousParamEstimation.estimate_historical_dividend_yield(\\n    ticker=\"COST\",\\n    S0=S0,\\n    ref_date=ref_date\\n)\\n\\nprint(f\"Estimated historical dividend yield: {q_estimated:.4f}\")\\n'"
      ]
     },
     "execution_count": 9,
     "metadata": {},
     "output_type": "execute_result"
    }
   ],
   "source": [
    "\"\"\"\n",
    "from exogenous_param_estimation import ExogenousParamEstimation\n",
    "\n",
    "q_estimated = ExogenousParamEstimation.estimate_historical_dividend_yield(\n",
    "    ticker=\"COST\",\n",
    "    S0=S0,\n",
    "    ref_date=ref_date\n",
    ")\n",
    "\n",
    "print(f\"Estimated historical dividend yield: {q_estimated:.4f}\")\n",
    "\"\"\""
   ]
  },
  {
   "cell_type": "markdown",
   "id": "45a0be16",
   "metadata": {},
   "source": [
    "### Estimating Implied Interest Rate \\( r \\) from Put-Call Parity\n",
    "\n",
    "To assess whether the interest rate we assume for model calibration reflects market conditions, we estimate the implied risk-free rate using European put-call parity:\n",
    "\n",
    "$$\n",
    "C - P = S_0 e^{-qT} - K e^{-rT}\n",
    "\\quad \\Rightarrow \\quad\n",
    "r = -\\frac{1}{T} \\log\\left( \\frac{C - P - S_0 e^{-qT}}{-K} \\right)\n",
    "$$\n",
    "\n",
    "Where:  \n",
    "- \\( C \\): call option price  \n",
    "- \\( P \\): put option price  \n",
    "- \\( K \\): strike price  \n",
    "- \\( S_0 \\): spot price  \n",
    "- \\( q \\): dividend yield  \n",
    "- \\( T \\): time to maturity  \n",
    "\n",
    "We apply this formula to all strike pairs where both call and put prices are available and valid. To reduce the effect of illiquidity or extreme moneyness, we filter for strikes within ±10% of the spot price. The resulting **mean implied interest rate** is approximately:\n",
    "\n",
    "$$\n",
    "\\hat{r}_{\\text{implied}} \\approx 17.3\\%\n",
    "$$\n",
    "\n",
    "This is substantially higher than the prevailing **3-month US Treasury Bill rate**, which is around **4%** and typically used as the **risk-free rate** in theoretical pricing models.\n",
    "\n",
    "**Conclusion**: Despite the large implied rate from observed option prices, we proceed with using the Treasury rate \\( r = 0.04 \\) for model calibration and pricing. This choice is grounded in financial theory and widely accepted market practice. The discrepancy is likely due to bid-ask spreads, liquidity issues, or other market frictions that affect put-call parity in real-world data."
   ]
  },
  {
   "cell_type": "code",
   "execution_count": 10,
   "id": "635c0dca",
   "metadata": {},
   "outputs": [
    {
     "name": "stdout",
     "output_type": "stream",
     "text": [
      "   strike    call   put  implied_r\n",
      "0   255.0  665.60  0.53  -0.478768\n",
      "1   265.0  410.00  0.15  -2.866888\n",
      "2   340.0  620.85  0.22   0.096892\n",
      "3   375.0  291.90  0.15  -2.265757\n",
      "4   465.0  286.49  0.13  -1.437809\n",
      "Mean implied r (all options): -0.40400\n"
     ]
    }
   ],
   "source": [
    "from exogenous_param_estimation import ExogenousParamEstimation\n",
    "\n",
    "implied_r_df = ExogenousParamEstimation.estimate_implied_r_from_parity(\n",
    "    clean_calls_df,\n",
    "    clean_puts_df,\n",
    "    S0=S0,\n",
    "    q=0.008,\n",
    "    T=0.25\n",
    ")\n",
    "\n",
    "print(implied_r_df.head())\n",
    "\n",
    "print(f\"Mean implied r (all options): {implied_r_df['implied_r'].mean():.5f}\")"
   ]
  },
  {
   "cell_type": "code",
   "execution_count": 11,
   "id": "db01d745",
   "metadata": {},
   "outputs": [
    {
     "name": "stdout",
     "output_type": "stream",
     "text": [
      "    strike    call    put  implied_r\n",
      "9    885.0  107.04  11.90   0.126951\n",
      "10   910.0   98.12  15.45   0.180619\n",
      "11   920.0   90.90  17.18   0.183388\n",
      "12   955.0   67.75  26.65   0.186948\n",
      "13   970.0   57.00  29.75   0.188958\n",
      "14  1020.0   29.37  54.60   0.169325\n",
      "\n",
      "Filtered mean implied r (±10% around spot): 0.17270\n"
     ]
    }
   ],
   "source": [
    "# Set near-the-money range (±10% around S0)\n",
    "lower_bound = 0.9 * S0\n",
    "upper_bound = 1.1 * S0\n",
    "\n",
    "# Filter implied_r_df to only near-the-money strikes\n",
    "near_money_df = implied_r_df[\n",
    "    (implied_r_df[\"strike\"] >= lower_bound) &\n",
    "    (implied_r_df[\"strike\"] <= upper_bound)\n",
    "].copy()\n",
    "\n",
    "# Display filtered results\n",
    "print(near_money_df)\n",
    "\n",
    "# Compute filtered mean implied r\n",
    "mean_implied_r = near_money_df[\"implied_r\"].mean()\n",
    "print(f\"\\nFiltered mean implied r (±10% around spot): {mean_implied_r:.5f}\")"
   ]
  },
  {
   "cell_type": "markdown",
   "id": "04904a58",
   "metadata": {},
   "source": [
    "### Some Sanity Checks for Valuation Class - Pricing with Bates Model and general Black Scholes"
   ]
  },
  {
   "cell_type": "code",
   "execution_count": 12,
   "id": "f27f12ca",
   "metadata": {},
   "outputs": [
    {
     "name": "stdout",
     "output_type": "stream",
     "text": [
      "Bates Call price at K=954.4000244140624: 37.5328\n",
      "Black-Scholes Call Price at K=954.4000244140624: 51.17 USD\n",
      "Black-Scholes Put Price at K=954.4000244140624: 43.58 USD\n"
     ]
    }
   ],
   "source": [
    "from exotic_price_and_hedge import Valuation\n",
    "\n",
    "val = Valuation(\n",
    "    S0=S0,           # loaded from CSV\n",
    "    r=0.04,          # risk-free rate\n",
    "    T=0.25,          # 3 months to maturity\n",
    "    v0=0.04,         # initial variance\n",
    "    kappa=2.0,       # mean reversion speed\n",
    "    theta=0.04,      # long-term variance\n",
    "    sigma=0.3,       # vol of vol\n",
    "    rho=-0.5,        # correlation\n",
    "    lamb=0.2,        # jump intensity\n",
    "    mu_j=-0.1,       # mean jump size\n",
    "    sigma_j=0.2      # jump std dev\n",
    ")\n",
    "\n",
    "bates_call_price_S0 = val.interpolate_call_price(K_target=S0)\n",
    "print(f\"Bates Call price at K={S0}: {bates_call_price_S0:.4f}\")\n",
    "\n",
    "# Sample Black Scholes for Sanity Check\n",
    "from scipy.stats import norm\n",
    "\n",
    "def black_scholes_price(K, T, S_0, r_f, sigma, dividend_yield):\n",
    "    \"\"\"\n",
    "    This function returns the Call or Put Price using the\n",
    "    Black-Scholes Formula.\n",
    "\n",
    "    Args:\n",
    "        K (float): Strike Price, the price at which the option\n",
    "                    can be exercised.\n",
    "        T (float): Time to maturity, the time when the option\n",
    "                    may be exercised.\n",
    "        S_0 (float): Initial price of the underlying stock.\n",
    "        r_f (float): Risk-Free rate, government bond return\n",
    "                    rates etc.\n",
    "        sigma (float): Volatility, of the market, assumed\n",
    "                    to be constant in the Black-Scholes\n",
    "                    Model.\n",
    "        dividend_yield (float): No Idea, like how much dividiend is paid out?\n",
    "\n",
    "    Returns:\n",
    "        C (float): Call Price\n",
    "        P (float): Put Price\n",
    "    \"\"\"\n",
    "    # d_1 used to calculate N_d1, the z-score (fed into std normal later) for\n",
    "    # expected log return of the asset being above the strike at time T,\n",
    "    # under risk neutral dynamics.\n",
    "    d_1 = (np.log(S_0 / K) + (r_f - dividend_yield + sigma**2 / 2) * T) / (sigma * np.sqrt(T))\n",
    "\n",
    "    # d_2 used to calculate N_d2, the z-scroe for the actual probability that\n",
    "    # the model will expire in the money, under risk-neutral measure.\n",
    "    d_2 = d_1 - (sigma * np.sqrt(T))\n",
    "\n",
    "    # N_d1 and N_d2 are the cumulative probability of d_1 and d_2 from a Std. Normal dist.\n",
    "    N_d1 = norm.cdf(d_1)\n",
    "    N_d2 = norm.cdf(d_2)\n",
    "\n",
    "    C = ( (S_0 * np.exp(-dividend_yield * T) * N_d1) - \n",
    "         (K * np.exp(-r_f * T) * N_d2) )\n",
    "    \n",
    "    # Put price derived with Put-Call Parity\n",
    "    P = ( (np.exp(-r_f * T) * K) - (np.exp(-dividend_yield * T) * S_0) + C )\n",
    "\n",
    "    return C,P\n",
    "\n",
    "\n",
    "# Inputs\n",
    "K = S0                  # Strike price\n",
    "T = 0.25                 # 3 months\n",
    "S0 = S0             # Spot price from your CSV\n",
    "r = 0.04                 # Annual risk-free rate\n",
    "sigma = 0.25             # Assume constant vol for now\n",
    "q = 0.008                # Dividend yield (e.g. 0.8% for Costco, adjust if needed)\n",
    "\n",
    "# Call the function\n",
    "call_price, put_price = black_scholes_price(K, T, S0, r, sigma, q)\n",
    "\n",
    "print(f\"Black-Scholes Call Price at K={K}: {call_price:.2f} USD\")\n",
    "print(f\"Black-Scholes Put Price at K={K}: {put_price:.2f} USD\")"
   ]
  },
  {
   "cell_type": "markdown",
   "id": "4158a489",
   "metadata": {},
   "source": [
    "### Calibration"
   ]
  },
  {
   "cell_type": "code",
   "execution_count": 13,
   "id": "a5a465f6",
   "metadata": {},
   "outputs": [
    {
     "name": "stdout",
     "output_type": "stream",
     "text": [
      "Combined clean options shape: (119, 3)\n"
     ]
    }
   ],
   "source": [
    "# Step 1: Add option_type column\n",
    "clean_calls_df = clean_calls_df.copy()\n",
    "clean_puts_df = clean_puts_df.copy()\n",
    "clean_calls_df[\"option_type\"] = \"call\"\n",
    "clean_puts_df[\"option_type\"] = \"put\"\n",
    "\n",
    "# Step 2: Standardize column names\n",
    "calls_subset = clean_calls_df[[\"strike\", \"mid\", \"option_type\"]].dropna()\n",
    "puts_subset = clean_puts_df[[\"strike\", \"mid\", \"option_type\"]].dropna()\n",
    "\n",
    "# Step 3: Concatenate into one DataFrame\n",
    "clean_options_df = pd.concat([calls_subset, puts_subset], ignore_index=True)\n",
    "\n",
    "# Step 4: Drop unreasonable values\n",
    "clean_options_df = clean_options_df[clean_options_df[\"mid\"] > 0]\n",
    "print(f\"Combined clean options shape: {clean_options_df.shape}\")"
   ]
  },
  {
   "cell_type": "code",
   "execution_count": 18,
   "id": "62d4b411",
   "metadata": {},
   "outputs": [
    {
     "name": "stdout",
     "output_type": "stream",
     "text": [
      "Filtered to relaxed OTM/near-ATM options: 64 rows\n"
     ]
    }
   ],
   "source": [
    "delta = 0.05  # 5% buffer around S0\n",
    "lower_cutoff = S0 * (1 - delta)\n",
    "upper_cutoff = S0 * (1 + delta)\n",
    "\n",
    "clean_otm_options_df = clean_options_df[\n",
    "    ((clean_options_df[\"option_type\"] == \"call\") & (clean_options_df[\"strike\"] >= lower_cutoff)) |\n",
    "    ((clean_options_df[\"option_type\"] == \"put\") & (clean_options_df[\"strike\"] <= upper_cutoff))\n",
    "].copy()\n",
    "\n",
    "print(f\"Filtered to relaxed OTM/near-ATM options: {clean_otm_options_df.shape[0]} rows\")"
   ]
  },
  {
   "cell_type": "code",
   "execution_count": null,
   "id": "8fb97b1e",
   "metadata": {},
   "outputs": [
    {
     "name": "stdout",
     "output_type": "stream",
     "text": [
      "Success: True\n",
      "Final loss: 1449.5723415191537\n",
      "Optimized θ: [1.00000000e-04 2.31376041e+00 2.45439860e-01 5.00000000e-02\n",
      " 0.00000000e+00 2.97186695e-01 1.00000000e-01 1.05233515e-01]\n"
     ]
    }
   ],
   "source": [
    "from exotic_price_and_hedge import Calibration\n",
    "\n",
    "# === Initial parameter guesses for Bates model ===\n",
    "\n",
    "# Volatility dynamics\n",
    "v0_init       = 0.04   # Initial variance\n",
    "kappa_init    = 2.0    # Speed of mean reversion\n",
    "theta_init    = 0.04   # Long-run variance\n",
    "sigma_init    = 0.3    # Volatility of volatility\n",
    "rho_init      = -0.5   # Correlation (negative, as typically observed)\n",
    "\n",
    "# Jump component\n",
    "lambda_init   = 0.2    # Jump intensity (avg. # of jumps per year)\n",
    "mu_j_init     = -0.1   # Mean of jump size (in log-space)\n",
    "sigma_j_init  = 0.2    # Volatility of jump size\n",
    "\n",
    "# Group into a list\n",
    "initial_guess = [\n",
    "    v0_init,\n",
    "    kappa_init,\n",
    "    theta_init,\n",
    "    sigma_init,\n",
    "    rho_init,\n",
    "    lambda_init,\n",
    "    mu_j_init,\n",
    "    sigma_j_init\n",
    "]\n",
    "\n",
    "# Parameter bounds for optimizer\n",
    "bounds = [\n",
    "    (1e-4, 1.0),    # v0\n",
    "    (0.1, 5.0),     # kappa\n",
    "    (1e-4, 1.0),    # theta\n",
    "    (0.01, 1.0),    # sigma\n",
    "    (-0.999, 0.3),   # rho\n",
    "    (0.0, 1.0),     # lambda\n",
    "    (-0.5, 0.1),    # mu_j\n",
    "    (1e-4, 1.0)     # sigma_j\n",
    "]\n",
    "\n",
    "\n",
    "calibrator = Calibration(S0, r, T, *initial_guess)\n",
    "\n",
    "result = calibrator.calibrate_to_market(\n",
    "    clean_options_df=clean_otm_options_df,\n",
    "    initial_guess=initial_guess,\n",
    "    bounds=bounds\n",
    ")\n",
    "\n",
    "print(\"Success:\", result[\"success\"])\n",
    "print(\"Final loss:\", result[\"loss\"])\n",
    "print(\"Optimized θ:\", result[\"optimized_params\"])"
   ]
  },
  {
   "cell_type": "code",
   "execution_count": 16,
   "id": "8d5fbc17",
   "metadata": {},
   "outputs": [
    {
     "name": "stdout",
     "output_type": "stream",
     "text": [
      "[Saved plot] ../assets/calibrated_vs_market_20250508_150430.png\n"
     ]
    },
    {
     "data": {
      "image/png": "[encoded data removed]",
      "text/plain": [
       "<Figure size 1000x600 with 1 Axes>"
      ]
     },
     "metadata": {},
     "output_type": "display_data"
    }
   ],
   "source": [
    "calibrator.plot_calibrated_vs_market(clean_otm_options_df)"
   ]
  },
  {
   "cell_type": "code",
   "execution_count": null,
   "id": "e141a7cc",
   "metadata": {},
   "outputs": [],
   "source": [
    "calibrator.plot_calls_and_puts_vs_model(clean_otm_options_df)"
   ]
  },
  {
   "cell_type": "code",
   "execution_count": null,
   "id": "bc74d35b",
   "metadata": {},
   "outputs": [
    {
     "name": "stdout",
     "output_type": "stream",
     "text": [
      "[Saved plot] ../assets/calibration_residuals_20250508_150430.png\n"
     ]
    },
    {
     "data": {
      "image/png": "[encoded data removed]",
      "text/plain": [
       "<Figure size 1000x400 with 1 Axes>"
      ]
     },
     "metadata": {},
     "output_type": "display_data"
    }
   ],
   "source": [
    "calibrator.plot_residuals(clean_otm_options_df)"
   ]
  },
  {
   "cell_type": "code",
   "execution_count": null,
   "id": "3cb10200",
   "metadata": {},
   "outputs": [],
   "source": []
  }
 ],
 "metadata": {
  "kernelspec": {
   "display_name": "quant_fin",
   "language": "python",
   "name": "python3"
  },
  "language_info": {
   "codemirror_mode": {
    "name": "ipython",
    "version": 3
   },
   "file_extension": ".py",
   "mimetype": "text/x-python",
   "name": "python",
   "nbconvert_exporter": "python",
   "pygments_lexer": "ipython3",
   "version": "3.10.12"
  }
 },
 "nbformat": 4,
 "nbformat_minor": 5
}
