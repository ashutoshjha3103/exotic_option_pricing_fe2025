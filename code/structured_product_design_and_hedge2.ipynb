{
 "cells": [
  {
   "cell_type": "markdown",
   "id": "329a985f",
   "metadata": {},
   "source": [
    "# Design and Hedging of a Structured Product\n",
    "## Financial Engineering, Summer 2025, KU Leuven\n",
    "\n",
    "## Multiple Maturities\n",
    "\n",
    "Ashutosh Jha"
   ]
  },
  {
   "cell_type": "code",
   "execution_count": 1,
   "id": "1bb7c71f",
   "metadata": {},
   "outputs": [],
   "source": [
    "# Necessary Imports\n",
    "import pandas as pd\n",
    "import numpy as np\n",
    "import time\n",
    "import matplotlib.pyplot as plt\n",
    "import json\n",
    "from scipy.stats import norm\n",
    "from IPython.display import display"
   ]
  },
  {
   "cell_type": "markdown",
   "id": "3db9bf7c",
   "metadata": {},
   "source": [
    "### Data Collection and Preprocessing\n",
    "\n",
    "In this step we use already collected data in ../data/ folder. We process the options data to eliminate any arbitrage, by using the put call spread and butterfly rule?"
   ]
  },
  {
   "cell_type": "code",
   "execution_count": 2,
   "id": "32e78801",
   "metadata": {},
   "outputs": [],
   "source": [
    "from collect_stock_data import GetStockData\n",
    "\n",
    "ticker = \"COST\"\n",
    "ref_date = \"2025-04-01\"\n",
    "\n",
    "get_stock_data = GetStockData(ticker=ticker, ref_date=ref_date)"
   ]
  },
  {
   "cell_type": "code",
   "execution_count": 3,
   "id": "59f57959",
   "metadata": {},
   "outputs": [
    {
     "name": "stdout",
     "output_type": "stream",
     "text": [
      "Spot Price: 954.4000244140624\n"
     ]
    }
   ],
   "source": [
    "# Load from CSV\n",
    "spot_df = pd.read_csv(\"../data/spot_price_ref_date_cost_2025-04-01_final.csv\")\n",
    "\n",
    "# Extract the spot price (assume first row if only one date)\n",
    "S0 = spot_df.loc[0, \"spot_price_ref_date\"]\n",
    "print(\"Spot Price:\",S0)\n",
    "ref_date = spot_df.loc[0, \"ref_date\"]"
   ]
  },
  {
   "cell_type": "markdown",
   "id": "704b5fd1",
   "metadata": {},
   "source": [
    "### Multiple Maturities Data and Experiment (Rate limitation)"
   ]
  },
  {
   "cell_type": "markdown",
   "id": "017b5c20",
   "metadata": {},
   "source": [
    "The following two code cells have been collapsed and commented out as they were used for data collection. The data is now stored in the ../data/ directory, so they are not required."
   ]
  },
  {
   "cell_type": "code",
   "execution_count": 4,
   "id": "addfe16c",
   "metadata": {},
   "outputs": [
    {
     "data": {
      "text/plain": [
       "'\\nT = 1.0                 # << Set this manually: e.g., 0.25, 0.5, 1.0\\nr = 0.04                 # << Adjust corresponding rate manually\\nq = 0.008\\nepsilon = 0.5\\n\\n# STEP 1: Fetch option chain\\ntry:\\n    print(f\"\\nFetching option chain for T = {T}...\")\\n    option_data = get_stock_data.get_option_chain_for_maturity(T)\\n    print(f\"Fetched expiry: {option_data[\\'expiry\\']}, calls: {len(option_data[\\'calls\\'])}, puts: {len(option_data[\\'puts\\'])}\")\\nexcept Exception as e:\\n    raise RuntimeError(f\"Error fetching option data: {e}\")\\n'"
      ]
     },
     "execution_count": 4,
     "metadata": {},
     "output_type": "execute_result"
    }
   ],
   "source": [
    "\"\"\"\n",
    "T = 1.0                 # << Set this manually: e.g., 0.25, 0.5, 1.0\n",
    "r = 0.04                 # << Adjust corresponding rate manually\n",
    "q = 0.008\n",
    "epsilon = 0.5\n",
    "\n",
    "# STEP 1: Fetch option chain\n",
    "try:\n",
    "    print(f\"\\nFetching option chain for T = {T}...\")\n",
    "    option_data = get_stock_data.get_option_chain_for_maturity(T)\n",
    "    print(f\"Fetched expiry: {option_data['expiry']}, calls: {len(option_data['calls'])}, puts: {len(option_data['puts'])}\")\n",
    "except Exception as e:\n",
    "    raise RuntimeError(f\"Error fetching option data: {e}\")\n",
    "\"\"\""
   ]
  },
  {
   "cell_type": "code",
   "execution_count": 5,
   "id": "2d4a8a10",
   "metadata": {},
   "outputs": [
    {
     "data": {
      "text/plain": [
       "'\\ncalls_df[\"maturity_T\"] = T\\nputs_df[\"maturity_T\"] = T\\n\\n# STEP 3: Save cleaned data\\nticker_str = get_stock_data.ticker.lower()\\nref_str = ref_date.replace(\"-\", \"\")\\n\\n# Choose suffix based on T\\nmaturity_suffix = {0.25: \"3m\", 0.5: \"6m\", 1.0: \"1y\"}.get(T, f\"{int(T*365)}d\")\\n\\ncalls_df.to_csv(f\"../data/calls_data_{ticker_str}_{ref_str}_{maturity_suffix}.csv\", index=False)\\nputs_df.to_csv(f\"../data/puts_data_{ticker_str}_{ref_str}_{maturity_suffix}.csv\", index=False)\\n\\nprint(f\"Cleaned data for T = {T} saved as calls_data_{ticker_str}_{ref_str}_{maturity_suffix}.csv\")\\n'"
      ]
     },
     "execution_count": 5,
     "metadata": {},
     "output_type": "execute_result"
    }
   ],
   "source": [
    "\"\"\"\n",
    "calls_df[\"maturity_T\"] = T\n",
    "puts_df[\"maturity_T\"] = T\n",
    "\n",
    "# STEP 3: Save cleaned data\n",
    "ticker_str = get_stock_data.ticker.lower()\n",
    "ref_str = ref_date.replace(\"-\", \"\")\n",
    "\n",
    "# Choose suffix based on T\n",
    "maturity_suffix = {0.25: \"3m\", 0.5: \"6m\", 1.0: \"1y\"}.get(T, f\"{int(T*365)}d\")\n",
    "\n",
    "calls_df.to_csv(f\"../data/calls_data_{ticker_str}_{ref_str}_{maturity_suffix}.csv\", index=False)\n",
    "puts_df.to_csv(f\"../data/puts_data_{ticker_str}_{ref_str}_{maturity_suffix}.csv\", index=False)\n",
    "\n",
    "print(f\"Cleaned data for T = {T} saved as calls_data_{ticker_str}_{ref_str}_{maturity_suffix}.csv\")\n",
    "\"\"\"\n"
   ]
  },
  {
   "cell_type": "code",
   "execution_count": 6,
   "id": "7d3229cc",
   "metadata": {},
   "outputs": [
    {
     "name": "stdout",
     "output_type": "stream",
     "text": [
      "Shape calls_df: (311, 19)\n",
      "Shape puts_df: (271, 19)\n"
     ]
    }
   ],
   "source": [
    "# Load each maturity separately\n",
    "calls_3m_df = pd.read_csv('../data/calls_data_cost_20250401_3m.csv')\n",
    "puts_3m_df = pd.read_csv('../data/puts_data_cost_20250401_3m.csv')\n",
    "\n",
    "calls_6m_df = pd.read_csv('../data/calls_data_cost_20250401_6m.csv')\n",
    "puts_6m_df = pd.read_csv('../data/puts_data_cost_20250401_6m.csv')\n",
    "\n",
    "calls_1y_df = pd.read_csv('../data/calls_data_cost_20250401_1y.csv')\n",
    "puts_1y_df = pd.read_csv('../data/puts_data_cost_20250401_1y.csv')\n",
    "\n",
    "# Concatenate all maturities\n",
    "calls_df = pd.concat([calls_3m_df, calls_6m_df, calls_1y_df], ignore_index=True)\n",
    "puts_df = pd.concat([puts_3m_df, puts_6m_df, puts_1y_df], ignore_index=True)\n",
    "\n",
    "# Print final shapes\n",
    "print(\"Shape calls_df:\", calls_df.shape)\n",
    "print(\"Shape puts_df:\", puts_df.shape)"
   ]
  },
  {
   "cell_type": "code",
   "execution_count": 7,
   "id": "695c4ed1",
   "metadata": {},
   "outputs": [
    {
     "name": "stdout",
     "output_type": "stream",
     "text": [
      "\n",
      "Running arbitrage check for T = 0.25 (r = 0.0422)\n",
      "=== No-Arbitrage Check Summary ===\n",
      "Call monotonicity clean: 117 / 176\n",
      "Put monotonicity clean: 139 / 169\n",
      "Call butterfly clean: 89 / 176\n",
      "Put butterfly clean: 99 / 169\n",
      "Calls retained (all clean): 76 / 176\n",
      "Puts retained (all clean): 68 / 169\n",
      "\n",
      "Running arbitrage check for T = 0.5 (r = 0.0428)\n",
      "=== No-Arbitrage Check Summary ===\n",
      "Call monotonicity clean: 51 / 69\n",
      "Put monotonicity clean: 47 / 50\n",
      "Call butterfly clean: 40 / 69\n",
      "Put butterfly clean: 29 / 50\n",
      "Calls retained (all clean): 25 / 69\n",
      "Puts retained (all clean): 26 / 50\n",
      "\n",
      "Running arbitrage check for T = 1.0 (r = 0.0405)\n",
      "=== No-Arbitrage Check Summary ===\n",
      "Call monotonicity clean: 54 / 66\n",
      "Put monotonicity clean: 44 / 52\n",
      "Call butterfly clean: 33 / 66\n",
      "Put butterfly clean: 32 / 52\n",
      "Calls retained (all clean): 25 / 66\n",
      "Puts retained (all clean): 22 / 52\n",
      "\n",
      "After arbitrage filtering:\n",
      "Shape calls_df: (126, 19)\n",
      "Shape puts_df: (116, 19)\n"
     ]
    }
   ],
   "source": [
    "epsilon = 0.5\n",
    "q = 0.008\n",
    "\n",
    "# Initialize empty lists to collect cleaned data\n",
    "cleaned_calls = []\n",
    "cleaned_puts = []\n",
    "\n",
    "# Loop over unique maturities in the combined data\n",
    "for T in sorted(calls_df[\"maturity_T\"].unique()):\n",
    "    r = {0.25: 0.0422, 0.5: 0.0428, 1.0: 0.0405}[T]  # US Treasury rate mapping\n",
    "\n",
    "    # Filter for this maturity\n",
    "    calls_T = calls_df[calls_df[\"maturity_T\"] == T].copy()\n",
    "    puts_T = puts_df[puts_df[\"maturity_T\"] == T].copy()\n",
    "\n",
    "    print(f\"\\nRunning arbitrage check for T = {T} (r = {r})\")\n",
    "\n",
    "    # Run arbitrage check\n",
    "    calls_clean, puts_clean = get_stock_data.check_arbitrage_conditions(\n",
    "        calls_df=calls_T,\n",
    "        puts_df=puts_T,\n",
    "        spot=S0,\n",
    "        r=r,\n",
    "        q=q,\n",
    "        T=T,\n",
    "        epsilon=epsilon,\n",
    "        reduced_arbitrage_check=True\n",
    "    )\n",
    "\n",
    "    cleaned_calls.append(calls_clean)\n",
    "    cleaned_puts.append(puts_clean)\n",
    "\n",
    "# Concatenate cleaned results\n",
    "clean_calls_df = pd.concat(cleaned_calls, ignore_index=True)\n",
    "clean_puts_df = pd.concat(cleaned_puts, ignore_index=True)\n",
    "\n",
    "clean_calls_df = clean_calls_df[clean_calls_df[\"is_clean\"]].copy()\n",
    "clean_puts_df = clean_puts_df[clean_puts_df[\"is_clean\"]].copy()\n",
    "\n",
    "# Print shapes\n",
    "print(\"\\nAfter arbitrage filtering:\")\n",
    "print(\"Shape calls_df:\", clean_calls_df.shape)\n",
    "print(\"Shape puts_df:\", clean_puts_df.shape)"
   ]
  },
  {
   "cell_type": "markdown",
   "id": "0a00e5d4",
   "metadata": {},
   "source": [
    "### Estimating Dividend yield (Rate Limited)"
   ]
  },
  {
   "cell_type": "markdown",
   "id": "4b3fa4f7",
   "metadata": {},
   "source": [
    "### Dividend Yield Estimation\n",
    "\n",
    "We estimate the **dividend yield** \\( q \\) for Costco (ticker: `COST`) based on its most recent cash dividend payments. Since dividend payout dates can be irregular and time series data often includes timezone or parsing issues, we simplify the approach as follows:\n",
    "\n",
    "- Load historical dividend payments from Yahoo Finance.\n",
    "- Assume the dividend data is chronologically ordered (oldest to newest).\n",
    "- Take the **last 8 dividend payments** (or fewer if not available).\n",
    "- Estimate the yield using:\n",
    "\n",
    "$$\n",
    "q = \\frac{\\text{Total dividends paid over last 8 periods}}{S_0}\n",
    "$$\n",
    "\n",
    "where:\n",
    "\n",
    "- S_0 is the spot price of the stock on the reference date.\n",
    "- The total dividend payments observed:  \n",
    "\n",
    "$$\n",
    "\\sum_{i=1}^{N} d_i = 22.98 \\text{ USD (over last 8 dividends)}\n",
    "$$\n",
    "\n",
    "- Spot price on reference date:\n",
    "\n",
    "$$\n",
    "S_0 = 954.00 \\text{ USD}\n",
    "$$\n",
    "\n",
    "Therefore, the estimated dividend yield is:\n",
    "\n",
    "$$\n",
    "q = \\frac{22.98}{954.00} \\approx \\boxed{0.0241} \\quad \\text{or} \\quad \\boxed{2.41\\%}\n",
    "$$\n",
    "\n",
    "---\n",
    "\n",
    "This yield is used in the **put-call parity check** and in the **Bates model calibration** to account for the expected dividend payout during the option's lifetime. While not based on an exact calendar filter (like 12 or 24 months), this approach is robust, avoids data inconsistencies, and reflects recent market behavior."
   ]
  },
  {
   "cell_type": "code",
   "execution_count": 8,
   "id": "4d519a65",
   "metadata": {},
   "outputs": [
    {
     "name": "stdout",
     "output_type": "stream",
     "text": [
      "[INFO] Loading dividend data from cache: ../data/dividends_cost_20250401.csv\n",
      "[INFO] Used last 8 dividend(s), total paid: 22.9800 USD\n",
      "Estimated historical dividend yield: 0.0241\n"
     ]
    }
   ],
   "source": [
    "from exogenous_param_estimation import ExogenousParamEstimation\n",
    "\n",
    "q_estimated = ExogenousParamEstimation.estimate_historical_dividend_yield(\n",
    "    ticker=\"COST\",\n",
    "    S0=S0,\n",
    "    ref_date=ref_date\n",
    ")\n",
    "\n",
    "print(f\"Estimated historical dividend yield: {q_estimated:.4f}\")"
   ]
  },
  {
   "cell_type": "markdown",
   "id": "45a0be16",
   "metadata": {},
   "source": [
    "### Estimating Implied Interest Rate \\( r \\) from Put-Call Parity\n",
    "\n",
    "To assess whether the interest rate we assume for model calibration reflects market conditions, we estimate the implied risk-free rate using European put-call parity:\n",
    "\n",
    "$$\n",
    "C - P = S_0 e^{-qT} - K e^{-rT}\n",
    "\\quad \\Rightarrow \\quad\n",
    "r = -\\frac{1}{T} \\log\\left( \\frac{C - P - S_0 e^{-qT}}{-K} \\right)\n",
    "$$\n",
    "\n",
    "Where:  \n",
    "- \\( C \\): call option price  \n",
    "- \\( P \\): put option price  \n",
    "- \\( K \\): strike price  \n",
    "- \\( S_0 \\): spot price  \n",
    "- \\( q \\): dividend yield  \n",
    "- \\( T \\): time to maturity  \n",
    "\n",
    "We apply this formula to all strike pairs where both call and put prices are available and valid. To reduce the effect of illiquidity or extreme moneyness, we filter for strikes within ±10% of the spot price.\n",
    "\n",
    "Below are the filtered **mean implied interest rates** across maturities:\n",
    "\n",
    "- T = 0.25: 24.8% \n",
    "- T = 0.50: 16.1%\n",
    "- T = 1.00: 10.7%  \n",
    "\n",
    "These are substantially higher than the prevailing **US Treasury yields** for the corresponding maturities, which are approximately:\n",
    "\n",
    "- 3-month: 4.22%  \n",
    "- 6-month: 4.28%  \n",
    "- 1-year: 4.05%  \n",
    "\n",
    "---\n",
    "\n",
    "**Conclusion**: Despite the large implied rates derived from observed option prices, we proceed with using the Treasury yield curve as our input for the risk-free rate in pricing and calibration. This choice is:\n",
    "\n",
    "- grounded in financial theory, and  \n",
    "- more stable and representative of the **true cost of risk-free capital**.\n",
    "\n",
    "The discrepancy is likely due to **bid-ask spreads**, **low liquidity**, or **other market imperfections** that violate put-call parity in real-world option data."
   ]
  },
  {
   "cell_type": "code",
   "execution_count": 9,
   "id": "635c0dca",
   "metadata": {},
   "outputs": [
    {
     "name": "stdout",
     "output_type": "stream",
     "text": [
      "\n",
      "[INFO] Estimating implied r for T = 0.25...\n",
      "  ↳ Mean implied r (all strikes): -0.23218\n",
      "  ↳ Filtered mean implied r (±10% of S₀): 0.24815\n",
      "\n",
      "[INFO] Estimating implied r for T = 0.5...\n",
      "  ↳ Mean implied r (all strikes): 0.10685\n",
      "  ↳ Filtered mean implied r (±10% of S₀): 0.16115\n",
      "\n",
      "[INFO] Estimating implied r for T = 1.0...\n",
      "  ↳ Mean implied r (all strikes): 0.09631\n",
      "  ↳ Filtered mean implied r (±10% of S₀): 0.10743\n"
     ]
    }
   ],
   "source": [
    "from exogenous_param_estimation import ExogenousParamEstimation\n",
    "\n",
    "all_implied_r = []\n",
    "\n",
    "for T in sorted(clean_calls_df[\"maturity_T\"].unique()):\n",
    "    calls_T = clean_calls_df[clean_calls_df[\"maturity_T\"] == T].copy()\n",
    "    puts_T = clean_puts_df[clean_puts_df[\"maturity_T\"] == T].copy()\n",
    "\n",
    "    print(f\"\\n[INFO] Estimating implied r for T = {T}...\")\n",
    "\n",
    "    implied_r_df = ExogenousParamEstimation.estimate_implied_r_from_parity(\n",
    "        clean_calls_df=calls_T,\n",
    "        clean_puts_df=puts_T,\n",
    "        S0=S0,\n",
    "        q=q_estimated,\n",
    "        T=T\n",
    "    )\n",
    "\n",
    "    all_implied_r.append(implied_r_df)\n",
    "\n",
    "    mean_r_all = implied_r_df[\"implied_r\"].mean()\n",
    "    print(f\"  ↳ Mean implied r (all strikes): {mean_r_all:.5f}\")\n",
    "\n",
    "    # Near-the-money filter (±10%)\n",
    "    lower_bound = 0.9 * S0\n",
    "    upper_bound = 1.1 * S0\n",
    "\n",
    "    near_money_df = implied_r_df[\n",
    "        (implied_r_df[\"strike\"] >= lower_bound) &\n",
    "        (implied_r_df[\"strike\"] <= upper_bound)\n",
    "    ]\n",
    "\n",
    "    mean_r_filtered = near_money_df[\"implied_r\"].mean()\n",
    "    print(f\"  ↳ Filtered mean implied r (±10% of S₀): {mean_r_filtered:.5f}\")\n",
    "\n",
    "# Optional: combine all implied_r values into one DataFrame\n",
    "implied_r_all_df = pd.concat(all_implied_r, ignore_index=True)"
   ]
  },
  {
   "cell_type": "markdown",
   "id": "04904a58",
   "metadata": {},
   "source": [
    "### Some Sanity Checks for Valuation Class - Pricing with Bates Model and general Black Scholes"
   ]
  },
  {
   "cell_type": "code",
   "execution_count": 10,
   "id": "f27f12ca",
   "metadata": {},
   "outputs": [
    {
     "name": "stdout",
     "output_type": "stream",
     "text": [
      "\n",
      "=== Sanity Check for T = 0.25 years ===\n",
      "Using r = 0.0422, q = 0.0241\n",
      "Bates Call Price at K = 954.40: 37.5122 USD\n",
      "Black-Scholes Call Price at K = 954.40: 49.3456 USD\n",
      "Black-Scholes Put Price at K = 954.40: 45.0574 USD\n",
      "\n",
      "=== Sanity Check for T = 0.5 years ===\n",
      "Using r = 0.0428, q = 0.0241\n",
      "Bates Call Price at K = 954.40: 51.4572 USD\n",
      "Black-Scholes Call Price at K = 954.40: 70.5919 USD\n",
      "Black-Scholes Put Price at K = 954.40: 61.8059 USD\n",
      "\n",
      "=== Sanity Check for T = 1.0 years ===\n",
      "Using r = 0.0405, q = 0.0241\n",
      "Bates Call Price at K = 954.40: 69.3140 USD\n",
      "Black-Scholes Call Price at K = 954.40: 99.7118 USD\n",
      "Black-Scholes Put Price at K = 954.40: 84.5364 USD\n"
     ]
    }
   ],
   "source": [
    "from exotic_price_and_hedge import Valuation\n",
    "\n",
    "# Risk-free rate per maturity (from US Treasury yields)\n",
    "rate_map = {0.25: 0.0422, 0.5: 0.0428, 1.0: 0.0405}\n",
    "\n",
    "# Fixed model params for sanity check\n",
    "bates_params = {\n",
    "    \"v0\": 0.04,\n",
    "    \"kappa\": 2.0,\n",
    "    \"theta\": 0.04,\n",
    "    \"sigma\": 0.3,\n",
    "    \"rho\": -0.5,\n",
    "    \"lamb\": 0.2,\n",
    "    \"mu_j\": -0.1,\n",
    "    \"sigma_j\": 0.2\n",
    "}\n",
    "\n",
    "# Dividend yield from estimation\n",
    "q = q_estimated\n",
    "\n",
    "# Target strike (at-the-money)\n",
    "K = S0\n",
    "\n",
    "def black_scholes_price(K, T, S_0, r_f, sigma, dividend_yield):\n",
    "    d_1 = (np.log(S_0 / K) + (r_f - dividend_yield + sigma**2 / 2) * T) / (sigma * np.sqrt(T))\n",
    "    d_2 = d_1 - (sigma * np.sqrt(T))\n",
    "\n",
    "    N_d1 = norm.cdf(d_1)\n",
    "    N_d2 = norm.cdf(d_2)\n",
    "\n",
    "    C = (S_0 * np.exp(-dividend_yield * T) * N_d1) - (K * np.exp(-r_f * T) * N_d2)\n",
    "    P = (K * np.exp(-r_f * T)) - (S_0 * np.exp(-dividend_yield * T)) + C\n",
    "\n",
    "    return C, P\n",
    "\n",
    "# Loop through maturities\n",
    "for T in [0.25, 0.5, 1.0]:\n",
    "    r = rate_map[T]\n",
    "\n",
    "    print(f\"\\n=== Sanity Check for T = {T} years ===\")\n",
    "    print(f\"Using r = {r:.4f}, q = {q:.4f}\")\n",
    "\n",
    "    # Bates Model Price\n",
    "    val = Valuation(S0=S0, r=r, T=T, **bates_params)\n",
    "    bates_call_price = val.interpolate_call_price(K_target=K)\n",
    "    print(f\"Bates Call Price at K = {K:.2f}: {bates_call_price:.4f} USD\")\n",
    "\n",
    "    # Black-Scholes Price (constant vol assumption)\n",
    "    bs_vol = 0.25  # flat vol for sanity check\n",
    "    bs_call, bs_put = black_scholes_price(K, T, S0, r, bs_vol, q)\n",
    "    print(f\"Black-Scholes Call Price at K = {K:.2f}: {bs_call:.4f} USD\")\n",
    "    print(f\"Black-Scholes Put Price at K = {K:.2f}: {bs_put:.4f} USD\")\n"
   ]
  },
  {
   "cell_type": "markdown",
   "id": "4158a489",
   "metadata": {},
   "source": [
    "### Calibration"
   ]
  },
  {
   "cell_type": "code",
   "execution_count": 11,
   "id": "a5a465f6",
   "metadata": {},
   "outputs": [
    {
     "name": "stdout",
     "output_type": "stream",
     "text": [
      "Combined clean options shape: (242, 4)\n"
     ]
    }
   ],
   "source": [
    "# Step 1: Add option_type column\n",
    "clean_calls_df = clean_calls_df.copy()\n",
    "clean_puts_df = clean_puts_df.copy()\n",
    "clean_calls_df[\"option_type\"] = \"call\"\n",
    "clean_puts_df[\"option_type\"] = \"put\"\n",
    "\n",
    "# Step 2: Keep relevant columns (including maturity_T)\n",
    "calls_subset = clean_calls_df[[\"strike\", \"mid\", \"option_type\", \"maturity_T\"]].dropna()\n",
    "puts_subset = clean_puts_df[[\"strike\", \"mid\", \"option_type\", \"maturity_T\"]].dropna()\n",
    "\n",
    "# Step 3: Concatenate into one DataFrame\n",
    "clean_options_df = pd.concat([calls_subset, puts_subset], ignore_index=True)\n",
    "\n",
    "# Step 4: Drop non-positive prices\n",
    "clean_options_df = clean_options_df[clean_options_df[\"mid\"] > 0]\n",
    "print(f\"Combined clean options shape: {clean_options_df.shape}\")"
   ]
  },
  {
   "cell_type": "code",
   "execution_count": 12,
   "id": "62d4b411",
   "metadata": {},
   "outputs": [
    {
     "name": "stdout",
     "output_type": "stream",
     "text": [
      "Filtered to relaxed OTM/near-ATM options: 146 rows\n",
      "\n",
      "Breakdown by maturity_T:\n",
      "maturity_T\n",
      "0.25    84\n",
      "0.50    33\n",
      "1.00    29\n",
      "Name: count, dtype: int64\n"
     ]
    }
   ],
   "source": [
    "# Step 5: Filter for near-ATM / relaxed OTM based on strike and type\n",
    "delta = 0.05  # 5% buffer around S0\n",
    "lower_cutoff = S0 * (1 - delta)\n",
    "upper_cutoff = S0 * (1 + delta)\n",
    "\n",
    "clean_otm_options_df = clean_options_df[\n",
    "    ((clean_options_df[\"option_type\"] == \"call\") & (clean_options_df[\"strike\"] >= lower_cutoff)) |\n",
    "    ((clean_options_df[\"option_type\"] == \"put\") & (clean_options_df[\"strike\"] <= upper_cutoff))\n",
    "].copy()\n",
    "\n",
    "print(f\"Filtered to relaxed OTM/near-ATM options: {clean_otm_options_df.shape[0]} rows\")\n",
    "\n",
    "# Optional: check how many per maturity\n",
    "print(\"\\nBreakdown by maturity_T:\")\n",
    "print(clean_otm_options_df[\"maturity_T\"].value_counts().sort_index())"
   ]
  },
  {
   "cell_type": "code",
   "execution_count": 13,
   "id": "d0897961",
   "metadata": {},
   "outputs": [
    {
     "data": {
      "text/html": [
       "<div>\n",
       "<style scoped>\n",
       "    .dataframe tbody tr th:only-of-type {\n",
       "        vertical-align: middle;\n",
       "    }\n",
       "\n",
       "    .dataframe tbody tr th {\n",
       "        vertical-align: top;\n",
       "    }\n",
       "\n",
       "    .dataframe thead th {\n",
       "        text-align: right;\n",
       "    }\n",
       "</style>\n",
       "<table border=\"1\" class=\"dataframe\">\n",
       "  <thead>\n",
       "    <tr style=\"text-align: right;\">\n",
       "      <th></th>\n",
       "      <th>strike</th>\n",
       "      <th>mid</th>\n",
       "      <th>option_type</th>\n",
       "      <th>maturity_T</th>\n",
       "      <th>r</th>\n",
       "    </tr>\n",
       "  </thead>\n",
       "  <tbody>\n",
       "    <tr>\n",
       "      <th>53</th>\n",
       "      <td>910.0</td>\n",
       "      <td>100.02</td>\n",
       "      <td>call</td>\n",
       "      <td>0.25</td>\n",
       "      <td>0.0422</td>\n",
       "    </tr>\n",
       "    <tr>\n",
       "      <th>54</th>\n",
       "      <td>925.0</td>\n",
       "      <td>98.35</td>\n",
       "      <td>call</td>\n",
       "      <td>0.25</td>\n",
       "      <td>0.0422</td>\n",
       "    </tr>\n",
       "    <tr>\n",
       "      <th>55</th>\n",
       "      <td>935.0</td>\n",
       "      <td>95.15</td>\n",
       "      <td>call</td>\n",
       "      <td>0.25</td>\n",
       "      <td>0.0422</td>\n",
       "    </tr>\n",
       "    <tr>\n",
       "      <th>56</th>\n",
       "      <td>940.0</td>\n",
       "      <td>88.33</td>\n",
       "      <td>call</td>\n",
       "      <td>0.25</td>\n",
       "      <td>0.0422</td>\n",
       "    </tr>\n",
       "    <tr>\n",
       "      <th>57</th>\n",
       "      <td>945.0</td>\n",
       "      <td>81.90</td>\n",
       "      <td>call</td>\n",
       "      <td>0.25</td>\n",
       "      <td>0.0422</td>\n",
       "    </tr>\n",
       "  </tbody>\n",
       "</table>\n",
       "</div>"
      ],
      "text/plain": [
       "    strike     mid option_type  maturity_T       r\n",
       "53   910.0  100.02        call        0.25  0.0422\n",
       "54   925.0   98.35        call        0.25  0.0422\n",
       "55   935.0   95.15        call        0.25  0.0422\n",
       "56   940.0   88.33        call        0.25  0.0422\n",
       "57   945.0   81.90        call        0.25  0.0422"
      ]
     },
     "execution_count": 13,
     "metadata": {},
     "output_type": "execute_result"
    }
   ],
   "source": [
    "# Risk-free rate per maturity (from US Treasury yields)\n",
    "rate_map = {0.25: 0.0422, 0.5: 0.0428, 1.0: 0.0405}\n",
    "\n",
    "clean_otm_options_df[\"r\"] = clean_otm_options_df[\"maturity_T\"].map(rate_map)\n",
    "clean_otm_options_df.head()"
   ]
  },
  {
   "cell_type": "code",
   "execution_count": 14,
   "id": "8fb97b1e",
   "metadata": {},
   "outputs": [
    {
     "ename": "FileNotFoundError",
     "evalue": "[Errno 2] No such file or directory: '../config/bates_calibration_config.json'",
     "output_type": "error",
     "traceback": [
      "\u001b[0;31m---------------------------------------------------------------------------\u001b[0m",
      "\u001b[0;31mFileNotFoundError\u001b[0m                         Traceback (most recent call last)",
      "Cell \u001b[0;32mIn[14], line 4\u001b[0m\n\u001b[1;32m      1\u001b[0m \u001b[38;5;28;01mfrom\u001b[39;00m\u001b[38;5;250m \u001b[39m\u001b[38;5;21;01mexotic_price_and_hedge\u001b[39;00m\u001b[38;5;250m \u001b[39m\u001b[38;5;28;01mimport\u001b[39;00m Calibration\n\u001b[1;32m      3\u001b[0m \u001b[38;5;66;03m# Load config from JSON\u001b[39;00m\n\u001b[0;32m----> 4\u001b[0m \u001b[38;5;28;01mwith\u001b[39;00m \u001b[38;5;28;43mopen\u001b[39;49m\u001b[43m(\u001b[49m\u001b[38;5;124;43m\"\u001b[39;49m\u001b[38;5;124;43m../config/bates_calibration_config.json\u001b[39;49m\u001b[38;5;124;43m\"\u001b[39;49m\u001b[43m,\u001b[49m\u001b[43m \u001b[49m\u001b[38;5;124;43m\"\u001b[39;49m\u001b[38;5;124;43mr\u001b[39;49m\u001b[38;5;124;43m\"\u001b[39;49m\u001b[43m)\u001b[49m \u001b[38;5;28;01mas\u001b[39;00m f:\n\u001b[1;32m      5\u001b[0m     config \u001b[38;5;241m=\u001b[39m json\u001b[38;5;241m.\u001b[39mload(f)\n\u001b[1;32m      7\u001b[0m \u001b[38;5;66;03m# Extract ordered initial guess and bounds\u001b[39;00m\n",
      "File \u001b[0;32m~/py_envs/quant_fin/lib/python3.10/site-packages/IPython/core/interactiveshell.py:324\u001b[0m, in \u001b[0;36m_modified_open\u001b[0;34m(file, *args, **kwargs)\u001b[0m\n\u001b[1;32m    317\u001b[0m \u001b[38;5;28;01mif\u001b[39;00m file \u001b[38;5;129;01min\u001b[39;00m {\u001b[38;5;241m0\u001b[39m, \u001b[38;5;241m1\u001b[39m, \u001b[38;5;241m2\u001b[39m}:\n\u001b[1;32m    318\u001b[0m     \u001b[38;5;28;01mraise\u001b[39;00m \u001b[38;5;167;01mValueError\u001b[39;00m(\n\u001b[1;32m    319\u001b[0m         \u001b[38;5;124mf\u001b[39m\u001b[38;5;124m\"\u001b[39m\u001b[38;5;124mIPython won\u001b[39m\u001b[38;5;124m'\u001b[39m\u001b[38;5;124mt let you open fd=\u001b[39m\u001b[38;5;132;01m{\u001b[39;00mfile\u001b[38;5;132;01m}\u001b[39;00m\u001b[38;5;124m by default \u001b[39m\u001b[38;5;124m\"\u001b[39m\n\u001b[1;32m    320\u001b[0m         \u001b[38;5;124m\"\u001b[39m\u001b[38;5;124mas it is likely to crash IPython. If you know what you are doing, \u001b[39m\u001b[38;5;124m\"\u001b[39m\n\u001b[1;32m    321\u001b[0m         \u001b[38;5;124m\"\u001b[39m\u001b[38;5;124myou can use builtins\u001b[39m\u001b[38;5;124m'\u001b[39m\u001b[38;5;124m open.\u001b[39m\u001b[38;5;124m\"\u001b[39m\n\u001b[1;32m    322\u001b[0m     )\n\u001b[0;32m--> 324\u001b[0m \u001b[38;5;28;01mreturn\u001b[39;00m \u001b[43mio_open\u001b[49m\u001b[43m(\u001b[49m\u001b[43mfile\u001b[49m\u001b[43m,\u001b[49m\u001b[43m \u001b[49m\u001b[38;5;241;43m*\u001b[39;49m\u001b[43margs\u001b[49m\u001b[43m,\u001b[49m\u001b[43m \u001b[49m\u001b[38;5;241;43m*\u001b[39;49m\u001b[38;5;241;43m*\u001b[39;49m\u001b[43mkwargs\u001b[49m\u001b[43m)\u001b[49m\n",
      "\u001b[0;31mFileNotFoundError\u001b[0m: [Errno 2] No such file or directory: '../config/bates_calibration_config.json'"
     ]
    }
   ],
   "source": [
    "from exotic_price_and_hedge import Calibration\n",
    "\n",
    "# Load config from JSON\n",
    "with open(\"../config/bates_calibration_config.json\", \"r\") as f:\n",
    "    config = json.load(f)\n",
    "\n",
    "# Extract ordered initial guess and bounds\n",
    "param_names = [\"v0\", \"kappa\", \"theta\", \"sigma\", \"rho\", \"lambda\", \"mu_j\", \"sigma_j\"]\n",
    "\n",
    "initial_guess = [config[\"initial_guess\"][param] for param in param_names]\n",
    "bounds = [tuple(config[\"bounds\"][param]) for param in param_names]"
   ]
  },
  {
   "cell_type": "markdown",
   "id": "d3eabf72",
   "metadata": {},
   "source": [
    "### Bates Model Calibration – Parameter Summary\n",
    "\n",
    "**Final loss:** 133.46  \n",
    "This parameter configuration reflects a balance between stochastic volatility and jump risk, with moderately frequent and small upward jumps combined with rich volatility dynamics.\n",
    "\n",
    "| Parameter | Value     | Interpretation |\n",
    "|-----------|-----------|----------------|\n",
    "| `v0`      | 0.01595   | Low initial variance, indicating a calm market state at t = 0. |\n",
    "| `kappa`   | 1.61637   | Relatively fast mean reversion of the variance process. |\n",
    "| `theta`   | 0.17144   | Moderate long-run variance level, allowing for sustained volatility. |\n",
    "| `sigma`   | 0.43575   | Substantial volatility of volatility, generating curvature in the implied volatility surface. |\n",
    "| `rho`     | -0.45304  | Moderately negative correlation between asset and volatility, producing implied volatility skew. |\n",
    "| `lambda`  | 0.57639   | Jump intensity implies slightly more than one jump every two years. |\n",
    "| `mu_j`    | 0.04960   | Small average upward jump size; contributes to slight right-tail mass. |\n",
    "| `sigma_j` | 0.10417   | Low jump size variability, consistent with frequent small jumps. |"
   ]
  },
  {
   "cell_type": "code",
   "execution_count": null,
   "id": "93a38542",
   "metadata": {},
   "outputs": [],
   "source": [
    "# Step 2: Pick any representative T and r to initialize — they'll be overridden per row in the calibration\n",
    "dummy_T = 0.25\n",
    "dummy_r = rate_map[dummy_T]\n",
    "\n",
    "# Step 3: Initialize calibrator (shared Bates model across all maturities)\n",
    "calibrator = Calibration(S0, dummy_r, dummy_T, *initial_guess)\n",
    "\n",
    "# Step 4: Run joint calibration\n",
    "result = calibrator.calibrate_to_market(\n",
    "    clean_options_df=clean_otm_options_df,\n",
    "    initial_guess=initial_guess,\n",
    "    bounds=bounds,\n",
    "    q=q_estimated,\n",
    "    weight_type=\"relative\"\n",
    ")\n",
    "\n",
    "# Step 5: Store and display results\n",
    "calibration_results = {\n",
    "    \"result\": result,\n",
    "    \"calibrator\": calibrator\n",
    "}\n",
    "\n",
    "print(\"\\n=== Joint Calibration Across All Maturities ===\")\n",
    "print(\"Success:\", result[\"success\"])\n",
    "print(\"Final loss:\", result[\"loss\"])"
   ]
  },
  {
   "cell_type": "code",
   "execution_count": null,
   "id": "8d5fbc17",
   "metadata": {},
   "outputs": [],
   "source": [
    "calibrator.plot_calibrated_vs_market(clean_otm_options_df)"
   ]
  },
  {
   "cell_type": "code",
   "execution_count": null,
   "id": "e141a7cc",
   "metadata": {},
   "outputs": [],
   "source": [
    "calibrator.plot_calls_and_puts_vs_model(clean_otm_options_df)"
   ]
  },
  {
   "cell_type": "code",
   "execution_count": null,
   "id": "bc74d35b",
   "metadata": {},
   "outputs": [],
   "source": [
    "calibrator.plot_residuals(clean_otm_options_df)"
   ]
  },
  {
   "cell_type": "code",
   "execution_count": null,
   "id": "3cb10200",
   "metadata": {},
   "outputs": [],
   "source": [
    "calibrator.plot_implied_volatility_smile_comparison(clean_otm_options_df)"
   ]
  },
  {
   "cell_type": "markdown",
   "id": "0d609571",
   "metadata": {},
   "source": [
    "### Exotic Product Pricing\n",
    "\n",
    "#### Volatility Truncation Method: `max(0, ·)`\n",
    "\n",
    "To ensure non-negative variance in the Bates model simulation, we use **Euler discretization** with a **\"max truncation\"** scheme:\n",
    "\n",
    "\\[\n",
    "v_{t+1} = \\max(0, v_t + \\text{Euler increment})\n",
    "\\]\n",
    "\n",
    "##### Justification:\n",
    "- Respects the financial constraint that **variance cannot be negative**\n",
    "- Prevents invalid square roots and resulting numerical instability\n",
    "- Aligns with the **Cox-Ingersoll-Ross (CIR)** process structure in the Heston and Bates models\n",
    "- Common practice in Monte Carlo option pricing literature (e.g., Andersen & Andreasen)\n",
    "\n",
    "This method is simple, stable, and appropriate for structured product pricing where high-frequency volatility behavior is not the primary focus."
   ]
  },
  {
   "cell_type": "code",
   "execution_count": null,
   "id": "34560322",
   "metadata": {},
   "outputs": [],
   "source": [
    "from exotic_price_and_hedge import MonteCarloExoticPricer\n",
    "\n",
    "# Calibrated Bates parameters\n",
    "v0, kappa, theta, sigma, rho, lamb, mu_j, sigma_j = result[\"optimized_params\"]\n",
    "\n",
    "S0 = S0\n",
    "r = 0.04\n",
    "maturities = [0.25, 0.5, 1.0]\n",
    "bonus_levels = [900, 925, 950, 975, 1000]\n",
    "barrier_levels = [650, 700, 750, 800]\n",
    "\n",
    "# Store results\n",
    "pricing_records = []\n",
    "\n",
    "for T in maturities:\n",
    "    print(f\"\\nSimulating paths and pricing for T = {T} years...\")\n",
    "    pricer = MonteCarloExoticPricer(S0, r, T, v0, kappa, theta, sigma, rho, lamb, mu_j, sigma_j)\n",
    "\n",
    "    for B in bonus_levels:\n",
    "        for H in barrier_levels:\n",
    "            price = pricer.price_bonus_certificate(\n",
    "                B=B,\n",
    "                H=H,\n",
    "                N_paths=100_000,\n",
    "                N_steps=252,\n",
    "                vol_truncation=\"max\"\n",
    "            )\n",
    "            price = np.round(price, 2)\n",
    "            margin_pct = np.round((price - B) / B * 100, 2)\n",
    "            margin_usd = np.round(price - B, 2)\n",
    "            pricing_records.append((T, B, H, price, margin_pct, margin_usd))\n",
    "\n",
    "# Format into a table for display\n",
    "df = pd.DataFrame(pricing_records, columns=[\"T\", \"B\", \"H\", \"Price\", \"Margin (%)\", \"Margin (USD)\"])\n",
    "tables = []\n",
    "\n",
    "for T in maturities:\n",
    "    sub_df = df[df[\"T\"] == T][[\"B\", \"H\", \"Price\", \"Margin (%)\", \"Margin (USD)\"]].reset_index(drop=True)\n",
    "    sub_df.columns = pd.MultiIndex.from_product([[f\"T = {T}\"], sub_df.columns])\n",
    "    tables.append(sub_df)\n",
    "\n",
    "full_table = pd.concat(tables, axis=1)\n",
    "\n",
    "# Display nicely\n",
    "display(full_table)"
   ]
  },
  {
   "cell_type": "code",
   "execution_count": null,
   "id": "6ad0769e",
   "metadata": {},
   "outputs": [],
   "source": [
    "# Bonus certificate pricing, chosen (B=1000, H=750, T=0.25)\n",
    "T = 0.25\n",
    "pricer = MonteCarloExoticPricer(S0, r, T, v0, kappa, theta, sigma, rho, lamb, mu_j, sigma_j)\n",
    "\n",
    "bonus_level = 975\n",
    "barrier_level = 700\n",
    "\n",
    "price_bc = pricer.price_bonus_certificate(B=bonus_level, H=barrier_level)\n",
    "print(f\"Monte Carlo Price of Bonus Certificate: {price_bc:.2f} USD\")"
   ]
  },
  {
   "cell_type": "code",
   "execution_count": null,
   "id": "0e3b0666",
   "metadata": {},
   "outputs": [],
   "source": [
    "# Simulate paths using \"max\" truncation\n",
    "paths = pricer.simulate_paths(N_paths=100000, N_steps=252, vol_truncation=\"max\")\n",
    "\n",
    "# Plot simulated paths\n",
    "pricer.plot_simulated_paths(paths, n_paths_plot=500)\n",
    "\n",
    "# Compute per-path payoffs\n",
    "payoffs = pricer.evaluate_bonus_certificate_payoffs(paths, B=bonus_level, H=barrier_level)\n",
    "\n",
    "# Discounted price (Monte Carlo value)\n",
    "discounted_price = np.exp(-r * T) * payoffs.mean()\n",
    "print(f\"Fair Value of Bonus Certificate: {discounted_price:.2f} USD\")"
   ]
  },
  {
   "cell_type": "code",
   "execution_count": null,
   "id": "c08e7607",
   "metadata": {},
   "outputs": [],
   "source": [
    "# Histogram\n",
    "\n",
    "plt.figure(figsize=(8, 5))\n",
    "plt.hist(payoffs, bins=50, color=\"steelblue\", edgecolor=\"black\", alpha=0.7)\n",
    "plt.axvline(x=1000, color=\"red\", linestyle=\"--\", label=\"Bonus Level\")\n",
    "plt.axvline(x=payoffs.mean(), color=\"black\", linestyle=\"--\", label=\"Expected Payoff\")\n",
    "plt.title(\"Distribution of Bonus Certificate Payoffs\")\n",
    "plt.xlabel(\"Payoff\")\n",
    "plt.ylabel(\"Frequency\")\n",
    "plt.legend()\n",
    "plt.grid(True)\n",
    "plt.tight_layout()\n",
    "plt.show()"
   ]
  },
  {
   "cell_type": "code",
   "execution_count": null,
   "id": "324d28d9",
   "metadata": {},
   "outputs": [],
   "source": [
    "sell_price = discounted_price * 1.02  # offered to investor\n",
    "cost_price = discounted_price\n",
    "margin = sell_price - cost_price\n",
    "print(\"Sell Price:\",sell_price)\n",
    "print(\"Cost Price (Model):\", cost_price)\n",
    "print(f\"Bank's expected margin: {margin:.2f} USD\")"
   ]
  },
  {
   "cell_type": "code",
   "execution_count": null,
   "id": "b6d1d0cf",
   "metadata": {},
   "outputs": [],
   "source": [
    "from exotic_price_and_hedge import HedgingStrategy\n",
    "\n",
    "T = 0.25\n",
    "bonus_level = 975\n",
    "barrier_level = 700\n",
    "pricer = MonteCarloExoticPricer(S0, r, T, v0, kappa, theta, sigma, rho, lamb, mu_j, sigma_j)\n",
    "\n",
    "hedger = HedgingStrategy(\n",
    "    pricer=pricer,   # calibrated MonteCarloExoticPricer\n",
    "    B=bonus_level,\n",
    "    H=barrier_level,\n",
    "    T=T,\n",
    "    notional=1_000_000\n",
    ")\n",
    "\n",
    "delta_0 = hedger.compute_delta()\n",
    "shares = hedger.compute_hedge_position(delta_0)\n",
    "\n",
    "print(f\"Delta at t=0: {delta_0:.4f}\")\n",
    "print(f\"Hedge position: {shares:.0f}\")"
   ]
  },
  {
   "cell_type": "code",
   "execution_count": null,
   "id": "62c3199e",
   "metadata": {},
   "outputs": [],
   "source": []
  }
 ],
 "metadata": {
  "kernelspec": {
   "display_name": "quant_fin",
   "language": "python",
   "name": "python3"
  },
  "language_info": {
   "codemirror_mode": {
    "name": "ipython",
    "version": 3
   },
   "file_extension": ".py",
   "mimetype": "text/x-python",
   "name": "python",
   "nbconvert_exporter": "python",
   "pygments_lexer": "ipython3",
   "version": "3.10.12"
  }
 },
 "nbformat": 4,
 "nbformat_minor": 5
}
